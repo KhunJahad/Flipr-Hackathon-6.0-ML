{
  "nbformat": 4,
  "nbformat_minor": 0,
  "metadata": {
    "colab": {
      "name": "Hackathon",
      "provenance": [],
      "authorship_tag": "ABX9TyNqEWnTfVJV+oGaj+fVMnkg",
      "include_colab_link": true
    },
    "kernelspec": {
      "name": "python3",
      "display_name": "Python 3"
    }
  },
  "cells": [
    {
      "cell_type": "markdown",
      "metadata": {
        "id": "view-in-github",
        "colab_type": "text"
      },
      "source": [
        "<a href=\"https://colab.research.google.com/github/KhunJahad/Flipr-Hackathon-6.0-ML/blob/master/Hackathon.ipynb\" target=\"_parent\"><img src=\"https://colab.research.google.com/assets/colab-badge.svg\" alt=\"Open In Colab\"/></a>"
      ]
    },
    {
      "cell_type": "markdown",
      "metadata": {
        "id": "DUxwhqXd5OTC",
        "colab_type": "text"
      },
      "source": [
        "# Importing"
      ]
    },
    {
      "cell_type": "code",
      "metadata": {
        "id": "a9G-va5N4-4X",
        "colab_type": "code",
        "colab": {}
      },
      "source": [
        "import numpy as np\n",
        "import pandas as pd\n",
        "import matplotlib.pyplot as plt\n",
        "import seaborn as sns\n",
        "\n",
        "from sklearn.model_selection import train_test_split\n",
        "from sklearn import metrics\n",
        "\n",
        "import tensorflow as tf\n",
        "from tensorflow import keras\n",
        "from tensorflow.keras import layers \n",
        "\n",
        "from tensorflow.keras.models import Sequential\n",
        "from tensorflow.keras.layers import Dense,Activation,Dropout,BatchNormalization\n",
        "from tensorflow.keras.callbacks import EarlyStopping\n",
        "\n",
        "import warnings\n",
        "warnings.filterwarnings(\"ignore\")"
      ],
      "execution_count": 78,
      "outputs": []
    },
    {
      "cell_type": "markdown",
      "metadata": {
        "id": "eit2b6BF5Rlm",
        "colab_type": "text"
      },
      "source": [
        "# Util Functions"
      ]
    },
    {
      "cell_type": "code",
      "metadata": {
        "id": "PhR4PTbyG5mm",
        "colab_type": "code",
        "colab": {}
      },
      "source": [
        "def statistics(train_dataset):\n",
        "  train_stats = train_dataset.describe()\n",
        "  train_stats = train_stats.transpose()\n",
        "  return train_stats"
      ],
      "execution_count": 79,
      "outputs": []
    },
    {
      "cell_type": "code",
      "metadata": {
        "id": "vyQ3BJTVG5Oz",
        "colab_type": "code",
        "colab": {}
      },
      "source": [
        "def norm(x,train_stats):\n",
        "  return (x - train_stats['mean']) / train_stats['std']"
      ],
      "execution_count": 80,
      "outputs": []
    },
    {
      "cell_type": "code",
      "metadata": {
        "id": "B5YkA9Hx7Pfv",
        "colab_type": "code",
        "colab": {}
      },
      "source": [
        "def preprocess(df):\n",
        "  df.drop(columns=['Popuation [2001]'],inplace=True,axis=1)\n",
        "  df.drop(columns=['City'],inplace=True,axis=1)\n",
        "  df.drop(columns=['State','Type','SWM'],axis=1,inplace=True)\n",
        "  \n",
        "  for j in range(0,df.shape[0]):\n",
        "    df['Population [2011]'][j]=str(df['Population [2011]'][j])\n",
        "    df['Population [2011]'][j] = df['Population [2011]'][j].replace(',', '')\n",
        "    df['Population [2011]'][j]=float(df['Population [2011]'][j])\n",
        "  \n",
        "  for col in df.columns:\n",
        "    df[col] = df[col].fillna(df[col].median())\n",
        "\n",
        "  return df"
      ],
      "execution_count": 81,
      "outputs": []
    },
    {
      "cell_type": "code",
      "metadata": {
        "id": "s9tU_uzlaO2p",
        "colab_type": "code",
        "colab": {}
      },
      "source": [
        "def num(x,y):\n",
        "  diff=abs(x.flatten()-y.flatten())\n",
        "  count=0;\n",
        "  total=0;\n",
        "  for item in diff:\n",
        "    total+=1\n",
        "    if item<=1000:\n",
        "      count+=1\n",
        "\n",
        "  return 100*(count/total)"
      ],
      "execution_count": 82,
      "outputs": []
    },
    {
      "cell_type": "code",
      "metadata": {
        "id": "1LEjTGw9aaHL",
        "colab_type": "code",
        "colab": {}
      },
      "source": [
        "# Regression chart \n",
        "def chart_regression(pred, y, sort=True):\n",
        "    t = pd.DataFrame({'pred': pred, 'y': y.flatten()})\n",
        "    if sort:\n",
        "        t.sort_values(by=['y'], inplace=True)\n",
        "    plt.plot(t['y'].tolist(), label='expected')\n",
        "    plt.plot(t['pred'].tolist(), label='prediction')\n",
        "    plt.ylabel('output')\n",
        "    plt.legend()\n",
        "    plt.show()"
      ],
      "execution_count": 83,
      "outputs": []
    },
    {
      "cell_type": "markdown",
      "metadata": {
        "id": "zMJAc8bV62pn",
        "colab_type": "text"
      },
      "source": [
        "# Data Preprocessing"
      ]
    },
    {
      "cell_type": "code",
      "metadata": {
        "id": "Fz5oeUJr6uhH",
        "colab_type": "code",
        "colab": {}
      },
      "source": [
        "df_train=pd.read_csv(r\"/content/Train_dataset - Train_data.csv\")\n",
        "df_train=preprocess(df_train)\n",
        "\n",
        "y = df_train.pop('Covid Cases')"
      ],
      "execution_count": 84,
      "outputs": []
    },
    {
      "cell_type": "code",
      "metadata": {
        "id": "X0di88ObqHj8",
        "colab_type": "code",
        "colab": {
          "base_uri": "https://localhost:8080/",
          "height": 301
        },
        "outputId": "0fb788c6-1ed1-4e84-c0ab-894e67d4a190"
      },
      "source": [
        "df_train.describe()"
      ],
      "execution_count": 85,
      "outputs": [
        {
          "output_type": "execute_result",
          "data": {
            "text/html": [
              "<div>\n",
              "<style scoped>\n",
              "    .dataframe tbody tr th:only-of-type {\n",
              "        vertical-align: middle;\n",
              "    }\n",
              "\n",
              "    .dataframe tbody tr th {\n",
              "        vertical-align: top;\n",
              "    }\n",
              "\n",
              "    .dataframe thead th {\n",
              "        text-align: right;\n",
              "    }\n",
              "</style>\n",
              "<table border=\"1\" class=\"dataframe\">\n",
              "  <thead>\n",
              "    <tr style=\"text-align: right;\">\n",
              "      <th></th>\n",
              "      <th>Population [2011]</th>\n",
              "      <th>Sex Ratio</th>\n",
              "      <th>Median Age</th>\n",
              "      <th>Avg Temp</th>\n",
              "      <th>Toilets Avl</th>\n",
              "      <th>Water Purity</th>\n",
              "      <th>H Index</th>\n",
              "      <th>Female Population</th>\n",
              "      <th># of hospitals</th>\n",
              "      <th>Foreign Visitors</th>\n",
              "    </tr>\n",
              "  </thead>\n",
              "  <tbody>\n",
              "    <tr>\n",
              "      <th>count</th>\n",
              "      <td>7.870000e+02</td>\n",
              "      <td>787.000000</td>\n",
              "      <td>787.000000</td>\n",
              "      <td>787.000000</td>\n",
              "      <td>787.000000</td>\n",
              "      <td>787.000000</td>\n",
              "      <td>787.000000</td>\n",
              "      <td>7.870000e+02</td>\n",
              "      <td>787.000000</td>\n",
              "      <td>7.870000e+02</td>\n",
              "    </tr>\n",
              "    <tr>\n",
              "      <th>mean</th>\n",
              "      <td>2.961837e+05</td>\n",
              "      <td>905.716645</td>\n",
              "      <td>26.179161</td>\n",
              "      <td>30.942821</td>\n",
              "      <td>95.951715</td>\n",
              "      <td>150.298602</td>\n",
              "      <td>0.498836</td>\n",
              "      <td>2.537475e+05</td>\n",
              "      <td>41.585769</td>\n",
              "      <td>1.364006e+06</td>\n",
              "    </tr>\n",
              "    <tr>\n",
              "      <th>std</th>\n",
              "      <td>8.617392e+05</td>\n",
              "      <td>36.782315</td>\n",
              "      <td>2.088908</td>\n",
              "      <td>6.892525</td>\n",
              "      <td>30.032641</td>\n",
              "      <td>25.979313</td>\n",
              "      <td>0.266036</td>\n",
              "      <td>7.609946e+05</td>\n",
              "      <td>28.870311</td>\n",
              "      <td>1.587678e+06</td>\n",
              "    </tr>\n",
              "    <tr>\n",
              "      <th>min</th>\n",
              "      <td>3.677600e+04</td>\n",
              "      <td>818.000000</td>\n",
              "      <td>23.000000</td>\n",
              "      <td>5.000000</td>\n",
              "      <td>50.000000</td>\n",
              "      <td>100.000000</td>\n",
              "      <td>0.003074</td>\n",
              "      <td>3.091300e+04</td>\n",
              "      <td>10.000000</td>\n",
              "      <td>7.980000e+02</td>\n",
              "    </tr>\n",
              "    <tr>\n",
              "      <th>25%</th>\n",
              "      <td>5.356600e+04</td>\n",
              "      <td>877.000000</td>\n",
              "      <td>24.000000</td>\n",
              "      <td>28.000000</td>\n",
              "      <td>71.000000</td>\n",
              "      <td>130.500000</td>\n",
              "      <td>0.284780</td>\n",
              "      <td>4.736400e+04</td>\n",
              "      <td>18.000000</td>\n",
              "      <td>2.378540e+05</td>\n",
              "    </tr>\n",
              "    <tr>\n",
              "      <th>50%</th>\n",
              "      <td>7.910600e+04</td>\n",
              "      <td>906.000000</td>\n",
              "      <td>26.000000</td>\n",
              "      <td>31.000000</td>\n",
              "      <td>92.000000</td>\n",
              "      <td>150.000000</td>\n",
              "      <td>0.507004</td>\n",
              "      <td>8.306750e+04</td>\n",
              "      <td>28.000000</td>\n",
              "      <td>6.365020e+05</td>\n",
              "    </tr>\n",
              "    <tr>\n",
              "      <th>75%</th>\n",
              "      <td>2.247195e+05</td>\n",
              "      <td>928.000000</td>\n",
              "      <td>28.000000</td>\n",
              "      <td>36.000000</td>\n",
              "      <td>117.000000</td>\n",
              "      <td>171.000000</td>\n",
              "      <td>0.701104</td>\n",
              "      <td>1.898310e+05</td>\n",
              "      <td>66.000000</td>\n",
              "      <td>1.489500e+06</td>\n",
              "    </tr>\n",
              "    <tr>\n",
              "      <th>max</th>\n",
              "      <td>1.244237e+07</td>\n",
              "      <td>1042.000000</td>\n",
              "      <td>32.000000</td>\n",
              "      <td>40.000000</td>\n",
              "      <td>227.000000</td>\n",
              "      <td>200.000000</td>\n",
              "      <td>0.999774</td>\n",
              "      <td>1.092440e+07</td>\n",
              "      <td>159.000000</td>\n",
              "      <td>4.684707e+06</td>\n",
              "    </tr>\n",
              "  </tbody>\n",
              "</table>\n",
              "</div>"
            ],
            "text/plain": [
              "       Population [2011]    Sex Ratio  ...  # of hospitals  Foreign Visitors\n",
              "count       7.870000e+02   787.000000  ...      787.000000      7.870000e+02\n",
              "mean        2.961837e+05   905.716645  ...       41.585769      1.364006e+06\n",
              "std         8.617392e+05    36.782315  ...       28.870311      1.587678e+06\n",
              "min         3.677600e+04   818.000000  ...       10.000000      7.980000e+02\n",
              "25%         5.356600e+04   877.000000  ...       18.000000      2.378540e+05\n",
              "50%         7.910600e+04   906.000000  ...       28.000000      6.365020e+05\n",
              "75%         2.247195e+05   928.000000  ...       66.000000      1.489500e+06\n",
              "max         1.244237e+07  1042.000000  ...      159.000000      4.684707e+06\n",
              "\n",
              "[8 rows x 10 columns]"
            ]
          },
          "metadata": {
            "tags": []
          },
          "execution_count": 85
        }
      ]
    },
    {
      "cell_type": "code",
      "metadata": {
        "id": "In8oWl9mXD9b",
        "colab_type": "code",
        "colab": {}
      },
      "source": [
        "x=df_train.values\n",
        "y=y.values"
      ],
      "execution_count": 86,
      "outputs": []
    },
    {
      "cell_type": "code",
      "metadata": {
        "id": "lQ9dlEuhHGuX",
        "colab_type": "code",
        "colab": {
          "base_uri": "https://localhost:8080/",
          "height": 235
        },
        "outputId": "e57a6a29-9ed8-4e82-a0b5-cc68090cd7db"
      },
      "source": [
        "stats=statistics(df_train)\n",
        "print(stats)"
      ],
      "execution_count": 87,
      "outputs": [
        {
          "output_type": "stream",
          "text": [
            "                   count          mean  ...           75%           max\n",
            "Population [2011]  787.0  2.961837e+05  ...  2.247195e+05  1.244237e+07\n",
            "Sex Ratio          787.0  9.057166e+02  ...  9.280000e+02  1.042000e+03\n",
            "Median Age         787.0  2.617916e+01  ...  2.800000e+01  3.200000e+01\n",
            "Avg Temp           787.0  3.094282e+01  ...  3.600000e+01  4.000000e+01\n",
            "Toilets Avl        787.0  9.595172e+01  ...  1.170000e+02  2.270000e+02\n",
            "Water Purity       787.0  1.502986e+02  ...  1.710000e+02  2.000000e+02\n",
            "H Index            787.0  4.988364e-01  ...  7.011036e-01  9.997737e-01\n",
            "Female Population  787.0  2.537475e+05  ...  1.898310e+05  1.092440e+07\n",
            "# of hospitals     787.0  4.158577e+01  ...  6.600000e+01  1.590000e+02\n",
            "Foreign Visitors   787.0  1.364006e+06  ...  1.489500e+06  4.684707e+06\n",
            "\n",
            "[10 rows x 8 columns]\n"
          ],
          "name": "stdout"
        }
      ]
    },
    {
      "cell_type": "code",
      "metadata": {
        "id": "0ucrvOyuHL2G",
        "colab_type": "code",
        "colab": {}
      },
      "source": [
        "x = norm(df_train,stats)"
      ],
      "execution_count": 88,
      "outputs": []
    },
    {
      "cell_type": "code",
      "metadata": {
        "id": "vHH_G4rxZjRa",
        "colab_type": "code",
        "colab": {}
      },
      "source": [
        "x_train, x_test, y_train, y_test = train_test_split(x, y, test_size=0.25, random_state=42)"
      ],
      "execution_count": 89,
      "outputs": []
    },
    {
      "cell_type": "markdown",
      "metadata": {
        "id": "Gm-Ax28uS7tT",
        "colab_type": "text"
      },
      "source": [
        "# Model And Training"
      ]
    },
    {
      "cell_type": "code",
      "metadata": {
        "id": "ryJT79kXSmO2",
        "colab_type": "code",
        "colab": {
          "base_uri": "https://localhost:8080/",
          "height": 138
        },
        "outputId": "49dee1e3-8759-4715-b9ad-51a387dbed47"
      },
      "source": [
        "model=Sequential()\n",
        "model.add(Dropout(0.2))\n",
        "model.add(Dense(512, input_dim=x.shape[1], activation='relu')) # Hidden 1\n",
        "model.add(Dense(512, activation='relu')) # Hidden 2\n",
        "model.add(Dense(1)) # Output\n",
        "\n",
        "optim=tf.keras.optimizers.Adam(0.005)\n",
        "\n",
        "model.compile(loss='mean_squared_error',optimizer=optim)\n",
        "history=model.fit(x_train,y_train,validation_data=(x_test,y_test),verbose=0,epochs=1000)"
      ],
      "execution_count": 90,
      "outputs": [
        {
          "output_type": "stream",
          "text": [
            "WARNING:tensorflow:Layer dropout_1 is casting an input tensor from dtype float64 to the layer's dtype of float32, which is new behavior in TensorFlow 2.  The layer has dtype float32 because its dtype defaults to floatx.\n",
            "\n",
            "If you intended to run this layer in float32, you can safely ignore this warning. If in doubt, this warning is likely only an issue if you are porting a TensorFlow 1.X model to TensorFlow 2.\n",
            "\n",
            "To change all layers to have dtype float64 by default, call `tf.keras.backend.set_floatx('float64')`. To change just this layer, pass dtype='float64' to the layer constructor. If you are the author of this layer, you can disable autocasting by passing autocast=False to the base Layer constructor.\n",
            "\n"
          ],
          "name": "stdout"
        }
      ]
    },
    {
      "cell_type": "code",
      "metadata": {
        "id": "fsGkeJWzWTXp",
        "colab_type": "code",
        "colab": {
          "base_uri": "https://localhost:8080/",
          "height": 54
        },
        "outputId": "bfaa0f2c-82b9-486d-aef7-24e1a4c0796f"
      },
      "source": [
        "# Predict\n",
        "pred_valid = model.predict(x_test)\n",
        "pred_train=model.predict(x_train)"
      ],
      "execution_count": 91,
      "outputs": [
        {
          "output_type": "stream",
          "text": [
            "WARNING:tensorflow:11 out of the last 11 calls to <function Model.make_predict_function.<locals>.predict_function at 0x7fd4ebec2268> triggered tf.function retracing. Tracing is expensive and the excessive number of tracings could be due to (1) creating @tf.function repeatedly in a loop, (2) passing tensors with different shapes, (3) passing Python objects instead of tensors. For (1), please define your @tf.function outside of the loop. For (2), @tf.function has experimental_relax_shapes=True option that relaxes argument shapes that can avoid unnecessary retracing. For (3), please refer to https://www.tensorflow.org/tutorials/customization/performance#python_or_tensor_args and https://www.tensorflow.org/api_docs/python/tf/function for  more details.\n"
          ],
          "name": "stdout"
        }
      ]
    },
    {
      "cell_type": "code",
      "metadata": {
        "id": "JkhaE78DaIJa",
        "colab_type": "code",
        "colab": {
          "base_uri": "https://localhost:8080/",
          "height": 1000
        },
        "outputId": "26312d95-dd30-4464-d3e1-ad1a1258e86f"
      },
      "source": [
        "# chcking error range and plotting\n",
        "print(num(pred_train,y_train)) \n",
        "print(num(pred_valid,y_test))\n",
        "\n",
        "plt.plot(pred_valid)\n",
        "plt.show()\n",
        "plt.plot(y_test)\n",
        "plt.show()\n",
        "\n",
        "plt.plot(pred_train)\n",
        "plt.show()\n",
        "plt.plot(y_train)\n",
        "plt.show()"
      ],
      "execution_count": 92,
      "outputs": [
        {
          "output_type": "stream",
          "text": [
            "64.23728813559322\n",
            "67.51269035532995\n"
          ],
          "name": "stdout"
        },
        {
          "output_type": "display_data",
          "data": {
            "image/png": "[encoded data removed]",
            "text/plain": [
              "<Figure size 432x288 with 1 Axes>"
            ]
          },
          "metadata": {
            "tags": []
          }
        },
        {
          "output_type": "display_data",
          "data": {
            "image/png": "[encoded data removed]",
            "text/plain": [
              "<Figure size 432x288 with 1 Axes>"
            ]
          },
          "metadata": {
            "tags": []
          }
        },
        {
          "output_type": "display_data",
          "data": {
            "image/png": "[encoded data removed]",
            "text/plain": [
              "<Figure size 432x288 with 1 Axes>"
            ]
          },
          "metadata": {
            "tags": []
          }
        },
        {
          "output_type": "display_data",
          "data": {
            "image/png": "[encoded data removed]",
            "text/plain": [
              "<Figure size 432x288 with 1 Axes>"
            ]
          },
          "metadata": {
            "tags": []
          }
        }
      ]
    },
    {
      "cell_type": "code",
      "metadata": {
        "id": "yidjvTO_aQaE",
        "colab_type": "code",
        "colab": {
          "base_uri": "https://localhost:8080/",
          "height": 50
        },
        "outputId": "2c87f283-97ec-48da-9466-e8e7e5d0aca1"
      },
      "source": [
        "# Measure RMSE error-- see how they perform .. i don't think this overfits \n",
        "score = np.sqrt(metrics.mean_squared_error(pred_valid,y_test))\n",
        "print(\"Final score (RMSE): {}\".format(score))\n",
        "\n",
        "score_train=np.sqrt(metrics.mean_squared_error(pred_train,y_train))\n",
        "print(\"Final score (RMSE):Train {}\".format(score_train))"
      ],
      "execution_count": 93,
      "outputs": [
        {
          "output_type": "stream",
          "text": [
            "Final score (RMSE): 4886.50841612128\n",
            "Final score (RMSE):Train 4649.899021202064\n"
          ],
          "name": "stdout"
        }
      ]
    },
    {
      "cell_type": "code",
      "metadata": {
        "id": "2lcS6IPIaWyf",
        "colab_type": "code",
        "colab": {
          "base_uri": "https://localhost:8080/",
          "height": 547
        },
        "outputId": "0e84890d-5993-4a44-8f1d-ae7ff7584b40"
      },
      "source": [
        "chart_regression(pred_valid.flatten(),y_test)\n",
        "chart_regression(pred_train.flatten(),y_train)"
      ],
      "execution_count": 94,
      "outputs": [
        {
          "output_type": "display_data",
          "data": {
            "image/png": "[encoded data removed]",
            "text/plain": [
              "<Figure size 432x288 with 1 Axes>"
            ]
          },
          "metadata": {
            "tags": []
          }
        },
        {
          "output_type": "display_data",
          "data": {
            "image/png": "[encoded data removed]",
            "text/plain": [
              "<Figure size 432x288 with 1 Axes>"
            ]
          },
          "metadata": {
            "tags": []
          }
        }
      ]
    },
    {
      "cell_type": "code",
      "metadata": {
        "id": "49gHANSAadkN",
        "colab_type": "code",
        "colab": {
          "base_uri": "https://localhost:8080/",
          "height": 321
        },
        "outputId": "52846fe7-eafb-4a4e-b7bb-c187312c2dae"
      },
      "source": [
        "test_predictions = model.predict(x_test).flatten()\n",
        "\n",
        "a = plt.axes(aspect='equal')\n",
        "plt.scatter(test_predictions,y_test)\n",
        "plt.xlabel('True Values ')\n",
        "plt.ylabel('Predictions ')\n",
        "plt.plot()"
      ],
      "execution_count": 95,
      "outputs": [
        {
          "output_type": "execute_result",
          "data": {
            "text/plain": [
              "[]"
            ]
          },
          "metadata": {
            "tags": []
          },
          "execution_count": 95
        },
        {
          "output_type": "display_data",
          "data": {
            "image/png": "[encoded data removed]",
            "text/plain": [
              "<Figure size 432x288 with 1 Axes>"
            ]
          },
          "metadata": {
            "tags": []
          }
        }
      ]
    },
    {
      "cell_type": "code",
      "metadata": {
        "id": "iJFmZ20Sai17",
        "colab_type": "code",
        "colab": {
          "base_uri": "https://localhost:8080/",
          "height": 304
        },
        "outputId": "e2ea4c81-52b3-4aa8-e1da-f422e934121e"
      },
      "source": [
        "error = test_predictions - y_test.flatten()\n",
        "plt.hist(error)\n",
        "plt.xlabel(\"Prediction Error [MPG]\")\n",
        "_ = plt.ylabel(\"Count\")"
      ],
      "execution_count": 96,
      "outputs": [
        {
          "output_type": "display_data",
          "data": {
            "image/png": "[encoded data removed]",
            "text/plain": [
              "<Figure size 432x288 with 1 Axes>"
            ]
          },
          "metadata": {
            "tags": []
          }
        }
      ]
    },
    {
      "cell_type": "markdown",
      "metadata": {
        "id": "42nN90oYkS9B",
        "colab_type": "text"
      },
      "source": [
        "# Solution\n",
        "\n",
        "The error prediciton curve is gaussian and i don't think its overfitting.\n",
        "\n",
        "So I will go with this one"
      ]
    },
    {
      "cell_type": "code",
      "metadata": {
        "id": "j7EHCCyqak8Y",
        "colab_type": "code",
        "colab": {}
      },
      "source": [
        "df_test=pd.read_csv(r'/content/Test_dataset - Test_data.csv')\n",
        "city_name=df_test['City']\n",
        "df_test=preprocess(df_test)"
      ],
      "execution_count": 20,
      "outputs": []
    },
    {
      "cell_type": "code",
      "metadata": {
        "id": "e_GGVtB6mi5P",
        "colab_type": "code",
        "colab": {
          "base_uri": "https://localhost:8080/",
          "height": 34
        },
        "outputId": "8fa5278a-725c-4a73-d82e-c47035b7c8d2"
      },
      "source": [
        "df_test.shape"
      ],
      "execution_count": 21,
      "outputs": [
        {
          "output_type": "execute_result",
          "data": {
            "text/plain": [
              "(501, 10)"
            ]
          },
          "metadata": {
            "tags": []
          },
          "execution_count": 21
        }
      ]
    },
    {
      "cell_type": "code",
      "metadata": {
        "id": "-EXDZQWFkv2Z",
        "colab_type": "code",
        "colab": {
          "base_uri": "https://localhost:8080/",
          "height": 252
        },
        "outputId": "04df1573-5dd3-4030-e08b-34b9d3a0315b"
      },
      "source": [
        "x_final = norm(df_test,stats)\n",
        "print(x_final)"
      ],
      "execution_count": 22,
      "outputs": [
        {
          "output_type": "stream",
          "text": [
            "     Population [2011]  Sex Ratio  ...  # of hospitals  Foreign Visitors\n",
            "0            -0.301030   0.687378  ...       -0.851593         -0.857376\n",
            "1            -0.301054   0.768939  ...       -0.990144         -0.458219\n",
            "2            -0.301079  -0.617597  ...       -0.851593         -0.706465\n",
            "3            -0.301109  -0.508849  ...       -1.059419          1.917839\n",
            "4            -0.301152  -0.780719  ...       -0.643768          1.095974\n",
            "..                 ...        ...  ...             ...               ...\n",
            "496          -0.341800  -1.569141  ...       -1.301883         -0.792431\n",
            "497          -0.341944  -1.460393  ...       -1.232608         -0.792431\n",
            "498          -0.342994  -1.433206  ...       -1.232608         -0.792431\n",
            "499          -0.343577  -1.460393  ...       -1.163332         -0.792431\n",
            "500          -0.314462  -1.161337  ...       -1.232608          1.095974\n",
            "\n",
            "[501 rows x 10 columns]\n"
          ],
          "name": "stdout"
        }
      ]
    },
    {
      "cell_type": "code",
      "metadata": {
        "id": "_rOgw7kvnQiv",
        "colab_type": "code",
        "colab": {
          "base_uri": "https://localhost:8080/",
          "height": 202
        },
        "outputId": "3ad91005-d506-42ff-bcf0-4aad328fd980"
      },
      "source": [
        "x_final.isna().sum()"
      ],
      "execution_count": 23,
      "outputs": [
        {
          "output_type": "execute_result",
          "data": {
            "text/plain": [
              "Population [2011]    0\n",
              "Sex Ratio            0\n",
              "Median Age           0\n",
              "Avg Temp             0\n",
              "Toilets Avl          0\n",
              "Water Purity         0\n",
              "H Index              0\n",
              "Female Population    0\n",
              "# of hospitals       0\n",
              "Foreign Visitors     0\n",
              "dtype: int64"
            ]
          },
          "metadata": {
            "tags": []
          },
          "execution_count": 23
        }
      ]
    },
    {
      "cell_type": "code",
      "metadata": {
        "id": "L9hAb2FdndtQ",
        "colab_type": "code",
        "colab": {
          "base_uri": "https://localhost:8080/",
          "height": 34
        },
        "outputId": "047d13fa-3881-4b90-ff24-62c70ea43488"
      },
      "source": [
        "print(x_final.shape)"
      ],
      "execution_count": 24,
      "outputs": [
        {
          "output_type": "stream",
          "text": [
            "(501, 10)\n"
          ],
          "name": "stdout"
        }
      ]
    },
    {
      "cell_type": "code",
      "metadata": {
        "id": "Sb6tqHCTnoVp",
        "colab_type": "code",
        "colab": {}
      },
      "source": [
        "result=[]\n",
        "\n",
        "output=model.predict(x_final)\n",
        "city=city_name.values\n",
        "for i in range(0,501):\n",
        "  result.append([city[i],output[i]])\n",
        "\n",
        "df=pd.DataFrame(result,columns=['City','Covid Cases'])\n",
        "df.to_csv('solution 01.csv',index=False)"
      ],
      "execution_count": 25,
      "outputs": []
    },
    {
      "cell_type": "markdown",
      "metadata": {
        "id": "6ERPPxrxIc6I",
        "colab_type": "text"
      },
      "source": [
        "# Task-2"
      ]
    },
    {
      "cell_type": "code",
      "metadata": {
        "id": "lab2L48DxsVY",
        "colab_type": "code",
        "colab": {}
      },
      "source": [
        "# importing again\n",
        "\n",
        "import math\n",
        "import numpy as np\n",
        "import pandas as pd\n",
        "from sklearn.preprocessing import MinMaxScaler\n",
        "from keras.models import Sequential\n",
        "from keras.layers import Dense, LSTM\n",
        "import matplotlib.pyplot as plt\n",
        "plt.style.use('fivethirtyeight')"
      ],
      "execution_count": 26,
      "outputs": []
    },
    {
      "cell_type": "code",
      "metadata": {
        "id": "2JxNzZU8xuPE",
        "colab_type": "code",
        "colab": {
          "base_uri": "https://localhost:8080/",
          "height": 195
        },
        "outputId": "6730ec95-4fae-4549-f087-c0e4dc4df772"
      },
      "source": [
        "df=pd.read_csv(\"/content/Test_dataset - Foreign_Visitors_TS.csv\",header=None,names=['City','April','May','June','July','August'])\n",
        "df.head()"
      ],
      "execution_count": 27,
      "outputs": [
        {
          "output_type": "execute_result",
          "data": {
            "text/html": [
              "<div>\n",
              "<style scoped>\n",
              "    .dataframe tbody tr th:only-of-type {\n",
              "        vertical-align: middle;\n",
              "    }\n",
              "\n",
              "    .dataframe tbody tr th {\n",
              "        vertical-align: top;\n",
              "    }\n",
              "\n",
              "    .dataframe thead th {\n",
              "        text-align: right;\n",
              "    }\n",
              "</style>\n",
              "<table border=\"1\" class=\"dataframe\">\n",
              "  <thead>\n",
              "    <tr style=\"text-align: right;\">\n",
              "      <th></th>\n",
              "      <th>City</th>\n",
              "      <th>April</th>\n",
              "      <th>May</th>\n",
              "      <th>June</th>\n",
              "      <th>July</th>\n",
              "      <th>August</th>\n",
              "    </tr>\n",
              "  </thead>\n",
              "  <tbody>\n",
              "    <tr>\n",
              "      <th>0</th>\n",
              "      <td>City</td>\n",
              "      <td>Time Series Data</td>\n",
              "      <td>NaN</td>\n",
              "      <td>NaN</td>\n",
              "      <td>NaN</td>\n",
              "      <td>NaN</td>\n",
              "    </tr>\n",
              "    <tr>\n",
              "      <th>1</th>\n",
              "      <td>NaN</td>\n",
              "      <td>April</td>\n",
              "      <td>May</td>\n",
              "      <td>June</td>\n",
              "      <td>July</td>\n",
              "      <td>August</td>\n",
              "    </tr>\n",
              "    <tr>\n",
              "      <th>2</th>\n",
              "      <td>Tuensang</td>\n",
              "      <td>1614</td>\n",
              "      <td>1946</td>\n",
              "      <td>2372</td>\n",
              "      <td>2500</td>\n",
              "      <td>2769</td>\n",
              "    </tr>\n",
              "    <tr>\n",
              "      <th>3</th>\n",
              "      <td>Lakshmeshwar</td>\n",
              "      <td>369179</td>\n",
              "      <td>445559</td>\n",
              "      <td>541045</td>\n",
              "      <td>572860</td>\n",
              "      <td>636502</td>\n",
              "    </tr>\n",
              "    <tr>\n",
              "      <th>4</th>\n",
              "      <td>Zira</td>\n",
              "      <td>140581</td>\n",
              "      <td>169665</td>\n",
              "      <td>206030</td>\n",
              "      <td>218138</td>\n",
              "      <td>242367</td>\n",
              "    </tr>\n",
              "  </tbody>\n",
              "</table>\n",
              "</div>"
            ],
            "text/plain": [
              "           City             April     May    June    July  August\n",
              "0          City  Time Series Data     NaN     NaN     NaN     NaN\n",
              "1           NaN             April     May    June    July  August\n",
              "2      Tuensang              1614    1946    2372    2500    2769\n",
              "3  Lakshmeshwar            369179  445559  541045  572860  636502\n",
              "4          Zira            140581  169665  206030  218138  242367"
            ]
          },
          "metadata": {
            "tags": []
          },
          "execution_count": 27
        }
      ]
    },
    {
      "cell_type": "code",
      "metadata": {
        "id": "XoQz2MJpxxk4",
        "colab_type": "code",
        "colab": {}
      },
      "source": [
        "df.drop(index=[0,1],axis=0,inplace=True)\n",
        "city=df.pop('City')\n",
        "df.fillna(0,inplace=True)\n",
        "labels=df['August']\n",
        "\n",
        "data = df.to_numpy()"
      ],
      "execution_count": 28,
      "outputs": []
    },
    {
      "cell_type": "code",
      "metadata": {
        "id": "wuXK6P5ib5ee",
        "colab_type": "code",
        "colab": {}
      },
      "source": [
        "city=city.values\n",
        "labels=labels.values.astype('int')"
      ],
      "execution_count": 29,
      "outputs": []
    },
    {
      "cell_type": "code",
      "metadata": {
        "id": "-_aZxLVKgXrZ",
        "colab_type": "code",
        "colab": {}
      },
      "source": [
        "new_pass=[]"
      ],
      "execution_count": 34,
      "outputs": []
    },
    {
      "cell_type": "code",
      "metadata": {
        "id": "KR2-0OgjVd_U",
        "colab_type": "code",
        "colab": {}
      },
      "source": [
        "for part in data:\n",
        "  x_train=[]\n",
        "  y_train=[]\n",
        "  for i in range(4):\n",
        "    a=int(part[i])\n",
        "    b=int(part[i+1])\n",
        "    x_train.append(a)\n",
        "    y_train.append(b)\n",
        "  x_train = np.array(x_train).reshape(4, 1, 1)\n",
        "  y_train=np.array(y_train)\n",
        "  model = Sequential()\n",
        "  model.add(LSTM(50, activation='relu', input_shape=(1, 1)))\n",
        "  model.add(Dense(1))\n",
        "  model.compile(optimizer='adam', loss='mse')\n",
        "\n",
        "  history = model.fit(x_train,y_train, epochs=1000, verbose=0)\n",
        "  c=int(part[-1])\n",
        "  test_input = np.array([c])\n",
        "  test_input = test_input.reshape((1, 1, 1))\n",
        "  test_output = model.predict(test_input, verbose=0)\n",
        "  new_pass.append(test_output)"
      ],
      "execution_count": null,
      "outputs": []
    },
    {
      "cell_type": "code",
      "metadata": {
        "id": "-CfwyufnVK8F",
        "colab_type": "code",
        "colab": {
          "base_uri": "https://localhost:8080/",
          "height": 34
        },
        "outputId": "bd7b41ad-6be4-4690-ac21-039b46685cd3"
      },
      "source": [
        "new_pass[0][0][0]"
      ],
      "execution_count": 61,
      "outputs": [
        {
          "output_type": "execute_result",
          "data": {
            "text/plain": [
              "3123.4846"
            ]
          },
          "metadata": {
            "tags": []
          },
          "execution_count": 61
        }
      ]
    },
    {
      "cell_type": "code",
      "metadata": {
        "id": "mAQz9pio3DP4",
        "colab_type": "code",
        "colab": {}
      },
      "source": [
        "temp=pd.read_csv(r\"/content/Test_dataset - Test_data.csv\")"
      ],
      "execution_count": 97,
      "outputs": []
    },
    {
      "cell_type": "code",
      "metadata": {
        "id": "fxGdulVqJuUe",
        "colab_type": "code",
        "colab": {}
      },
      "source": [
        "temp_2=temp.pop('Foreign Visitors')"
      ],
      "execution_count": 98,
      "outputs": []
    },
    {
      "cell_type": "code",
      "metadata": {
        "id": "Hd6M1KWpt4tT",
        "colab_type": "code",
        "colab": {
          "base_uri": "https://localhost:8080/",
          "height": 34
        },
        "outputId": "5478b5f3-dec5-45b8-f7a8-cb6baf8796d3"
      },
      "source": [
        "temp_2[0]"
      ],
      "execution_count": 99,
      "outputs": [
        {
          "output_type": "execute_result",
          "data": {
            "text/plain": [
              "2769.0"
            ]
          },
          "metadata": {
            "tags": []
          },
          "execution_count": 99
        }
      ]
    },
    {
      "cell_type": "code",
      "metadata": {
        "id": "_KWG5bjZuTRz",
        "colab_type": "code",
        "colab": {}
      },
      "source": [
        "foreign=[max(new_pass[i][0][0],temp_2[i]+500) for i in range(501)]"
      ],
      "execution_count": 100,
      "outputs": []
    },
    {
      "cell_type": "code",
      "metadata": {
        "id": "xBwBIYuYu9xN",
        "colab_type": "code",
        "colab": {
          "base_uri": "https://localhost:8080/",
          "height": 34
        },
        "outputId": "d97ad823-a790-47a3-99d4-06cb31907373"
      },
      "source": [
        "len(foreign)"
      ],
      "execution_count": 101,
      "outputs": [
        {
          "output_type": "execute_result",
          "data": {
            "text/plain": [
              "501"
            ]
          },
          "metadata": {
            "tags": []
          },
          "execution_count": 101
        }
      ]
    },
    {
      "cell_type": "code",
      "metadata": {
        "id": "GNR3KWndvYU_",
        "colab_type": "code",
        "colab": {
          "base_uri": "https://localhost:8080/",
          "height": 452
        },
        "outputId": "ca4c7594-133a-4a31-cf93-00a406b2b9b7"
      },
      "source": [
        "temp"
      ],
      "execution_count": 102,
      "outputs": [
        {
          "output_type": "execute_result",
          "data": {
            "text/html": [
              "<div>\n",
              "<style scoped>\n",
              "    .dataframe tbody tr th:only-of-type {\n",
              "        vertical-align: middle;\n",
              "    }\n",
              "\n",
              "    .dataframe tbody tr th {\n",
              "        vertical-align: top;\n",
              "    }\n",
              "\n",
              "    .dataframe thead th {\n",
              "        text-align: right;\n",
              "    }\n",
              "</style>\n",
              "<table border=\"1\" class=\"dataframe\">\n",
              "  <thead>\n",
              "    <tr style=\"text-align: right;\">\n",
              "      <th></th>\n",
              "      <th>City</th>\n",
              "      <th>State</th>\n",
              "      <th>Type</th>\n",
              "      <th>Population [2011]</th>\n",
              "      <th>Popuation [2001]</th>\n",
              "      <th>Sex Ratio</th>\n",
              "      <th>Median Age</th>\n",
              "      <th>Avg Temp</th>\n",
              "      <th>SWM</th>\n",
              "      <th>Toilets Avl</th>\n",
              "      <th>Water Purity</th>\n",
              "      <th>H Index</th>\n",
              "      <th>Female Population</th>\n",
              "      <th># of hospitals</th>\n",
              "    </tr>\n",
              "  </thead>\n",
              "  <tbody>\n",
              "    <tr>\n",
              "      <th>0</th>\n",
              "      <td>Tuensang</td>\n",
              "      <td>Nagaland</td>\n",
              "      <td>T.C</td>\n",
              "      <td>36,774</td>\n",
              "      <td>NaN</td>\n",
              "      <td>931.0</td>\n",
              "      <td>23.0</td>\n",
              "      <td>10.0</td>\n",
              "      <td>MEDIUM</td>\n",
              "      <td>94.0</td>\n",
              "      <td>114.0</td>\n",
              "      <td>0.253390</td>\n",
              "      <td>34237.0</td>\n",
              "      <td>17.0</td>\n",
              "    </tr>\n",
              "    <tr>\n",
              "      <th>1</th>\n",
              "      <td>Lakshmeshwar</td>\n",
              "      <td>Karnataka</td>\n",
              "      <td>T.M.C</td>\n",
              "      <td>36,754</td>\n",
              "      <td>NaN</td>\n",
              "      <td>934.0</td>\n",
              "      <td>25.0</td>\n",
              "      <td>38.0</td>\n",
              "      <td>HIGH</td>\n",
              "      <td>62.0</td>\n",
              "      <td>160.0</td>\n",
              "      <td>0.192555</td>\n",
              "      <td>34328.0</td>\n",
              "      <td>13.0</td>\n",
              "    </tr>\n",
              "    <tr>\n",
              "      <th>2</th>\n",
              "      <td>Zira</td>\n",
              "      <td>Punjab</td>\n",
              "      <td>M.Cl.</td>\n",
              "      <td>36,732</td>\n",
              "      <td>NaN</td>\n",
              "      <td>883.0</td>\n",
              "      <td>29.0</td>\n",
              "      <td>35.0</td>\n",
              "      <td>HIGH</td>\n",
              "      <td>63.0</td>\n",
              "      <td>105.0</td>\n",
              "      <td>0.887882</td>\n",
              "      <td>32434.0</td>\n",
              "      <td>17.0</td>\n",
              "    </tr>\n",
              "    <tr>\n",
              "      <th>3</th>\n",
              "      <td>Yawal</td>\n",
              "      <td>Maharashtra</td>\n",
              "      <td>M.Cl</td>\n",
              "      <td>36,706</td>\n",
              "      <td>NaN</td>\n",
              "      <td>887.0</td>\n",
              "      <td>26.0</td>\n",
              "      <td>31.0</td>\n",
              "      <td>HIGH</td>\n",
              "      <td>60.0</td>\n",
              "      <td>174.0</td>\n",
              "      <td>0.407838</td>\n",
              "      <td>32558.0</td>\n",
              "      <td>11.0</td>\n",
              "    </tr>\n",
              "    <tr>\n",
              "      <th>4</th>\n",
              "      <td>Thana Bhawan</td>\n",
              "      <td>Uttar Pradesh</td>\n",
              "      <td>N.P.</td>\n",
              "      <td>36,669</td>\n",
              "      <td>NaN</td>\n",
              "      <td>877.0</td>\n",
              "      <td>28.0</td>\n",
              "      <td>39.0</td>\n",
              "      <td>LOW</td>\n",
              "      <td>92.0</td>\n",
              "      <td>153.0</td>\n",
              "      <td>0.324456</td>\n",
              "      <td>32159.0</td>\n",
              "      <td>23.0</td>\n",
              "    </tr>\n",
              "    <tr>\n",
              "      <th>...</th>\n",
              "      <td>...</td>\n",
              "      <td>...</td>\n",
              "      <td>...</td>\n",
              "      <td>...</td>\n",
              "      <td>...</td>\n",
              "      <td>...</td>\n",
              "      <td>...</td>\n",
              "      <td>...</td>\n",
              "      <td>...</td>\n",
              "      <td>...</td>\n",
              "      <td>...</td>\n",
              "      <td>...</td>\n",
              "      <td>...</td>\n",
              "      <td>...</td>\n",
              "    </tr>\n",
              "    <tr>\n",
              "      <th>496</th>\n",
              "      <td>Nandaprayag</td>\n",
              "      <td>Uttarakhand</td>\n",
              "      <td>N.P</td>\n",
              "      <td>1,641</td>\n",
              "      <td>NaN</td>\n",
              "      <td>848.0</td>\n",
              "      <td>27.0</td>\n",
              "      <td>7.0</td>\n",
              "      <td>MEDIUM</td>\n",
              "      <td>12.0</td>\n",
              "      <td>181.0</td>\n",
              "      <td>0.316926</td>\n",
              "      <td>1392.0</td>\n",
              "      <td>4.0</td>\n",
              "    </tr>\n",
              "    <tr>\n",
              "      <th>497</th>\n",
              "      <td>Kirtinagar</td>\n",
              "      <td>Uttarakhand</td>\n",
              "      <td>N.P</td>\n",
              "      <td>1,517</td>\n",
              "      <td>NaN</td>\n",
              "      <td>852.0</td>\n",
              "      <td>28.0</td>\n",
              "      <td>12.0</td>\n",
              "      <td>HIGH</td>\n",
              "      <td>16.0</td>\n",
              "      <td>198.0</td>\n",
              "      <td>0.336852</td>\n",
              "      <td>1292.0</td>\n",
              "      <td>6.0</td>\n",
              "    </tr>\n",
              "    <tr>\n",
              "      <th>498</th>\n",
              "      <td>Kedarnath</td>\n",
              "      <td>Uttarakhand</td>\n",
              "      <td>N.P</td>\n",
              "      <td>612</td>\n",
              "      <td>NaN</td>\n",
              "      <td>853.0</td>\n",
              "      <td>24.0</td>\n",
              "      <td>9.0</td>\n",
              "      <td>LOW</td>\n",
              "      <td>19.0</td>\n",
              "      <td>189.0</td>\n",
              "      <td>0.723253</td>\n",
              "      <td>522.0</td>\n",
              "      <td>6.0</td>\n",
              "    </tr>\n",
              "    <tr>\n",
              "      <th>499</th>\n",
              "      <td>Gangotri</td>\n",
              "      <td>Uttarakhand</td>\n",
              "      <td>N.P</td>\n",
              "      <td>110</td>\n",
              "      <td>NaN</td>\n",
              "      <td>852.0</td>\n",
              "      <td>27.0</td>\n",
              "      <td>8.0</td>\n",
              "      <td>MEDIUM</td>\n",
              "      <td>18.0</td>\n",
              "      <td>170.0</td>\n",
              "      <td>0.421061</td>\n",
              "      <td>94.0</td>\n",
              "      <td>8.0</td>\n",
              "    </tr>\n",
              "    <tr>\n",
              "      <th>500</th>\n",
              "      <td>Kumarganj</td>\n",
              "      <td>Uttar Pradesh</td>\n",
              "      <td>C.T</td>\n",
              "      <td>NaN</td>\n",
              "      <td>NaN</td>\n",
              "      <td>863.0</td>\n",
              "      <td>24.0</td>\n",
              "      <td>35.0</td>\n",
              "      <td>HIGH</td>\n",
              "      <td>19.0</td>\n",
              "      <td>149.0</td>\n",
              "      <td>0.154375</td>\n",
              "      <td>0.0</td>\n",
              "      <td>6.0</td>\n",
              "    </tr>\n",
              "  </tbody>\n",
              "</table>\n",
              "<p>501 rows × 14 columns</p>\n",
              "</div>"
            ],
            "text/plain": [
              "             City          State  ... Female Population # of hospitals\n",
              "0        Tuensang       Nagaland  ...           34237.0           17.0\n",
              "1    Lakshmeshwar      Karnataka  ...           34328.0           13.0\n",
              "2            Zira         Punjab  ...           32434.0           17.0\n",
              "3           Yawal    Maharashtra  ...           32558.0           11.0\n",
              "4    Thana Bhawan  Uttar Pradesh  ...           32159.0           23.0\n",
              "..            ...            ...  ...               ...            ...\n",
              "496   Nandaprayag    Uttarakhand  ...            1392.0            4.0\n",
              "497    Kirtinagar    Uttarakhand  ...            1292.0            6.0\n",
              "498     Kedarnath    Uttarakhand  ...             522.0            6.0\n",
              "499      Gangotri    Uttarakhand  ...              94.0            8.0\n",
              "500     Kumarganj  Uttar Pradesh  ...               0.0            6.0\n",
              "\n",
              "[501 rows x 14 columns]"
            ]
          },
          "metadata": {
            "tags": []
          },
          "execution_count": 102
        }
      ]
    },
    {
      "cell_type": "code",
      "metadata": {
        "id": "ZboNHQg4u07R",
        "colab_type": "code",
        "colab": {}
      },
      "source": [
        "temp['Foreign Visitors']=foreign"
      ],
      "execution_count": 103,
      "outputs": []
    },
    {
      "cell_type": "code",
      "metadata": {
        "id": "YNwulS9lvbCT",
        "colab_type": "code",
        "colab": {
          "base_uri": "https://localhost:8080/",
          "height": 472
        },
        "outputId": "35a451e4-db43-4039-dd95-c52d90c306ca"
      },
      "source": [
        "temp"
      ],
      "execution_count": 104,
      "outputs": [
        {
          "output_type": "execute_result",
          "data": {
            "text/html": [
              "<div>\n",
              "<style scoped>\n",
              "    .dataframe tbody tr th:only-of-type {\n",
              "        vertical-align: middle;\n",
              "    }\n",
              "\n",
              "    .dataframe tbody tr th {\n",
              "        vertical-align: top;\n",
              "    }\n",
              "\n",
              "    .dataframe thead th {\n",
              "        text-align: right;\n",
              "    }\n",
              "</style>\n",
              "<table border=\"1\" class=\"dataframe\">\n",
              "  <thead>\n",
              "    <tr style=\"text-align: right;\">\n",
              "      <th></th>\n",
              "      <th>City</th>\n",
              "      <th>State</th>\n",
              "      <th>Type</th>\n",
              "      <th>Population [2011]</th>\n",
              "      <th>Popuation [2001]</th>\n",
              "      <th>Sex Ratio</th>\n",
              "      <th>Median Age</th>\n",
              "      <th>Avg Temp</th>\n",
              "      <th>SWM</th>\n",
              "      <th>Toilets Avl</th>\n",
              "      <th>Water Purity</th>\n",
              "      <th>H Index</th>\n",
              "      <th>Female Population</th>\n",
              "      <th># of hospitals</th>\n",
              "      <th>Foreign Visitors</th>\n",
              "    </tr>\n",
              "  </thead>\n",
              "  <tbody>\n",
              "    <tr>\n",
              "      <th>0</th>\n",
              "      <td>Tuensang</td>\n",
              "      <td>Nagaland</td>\n",
              "      <td>T.C</td>\n",
              "      <td>36,774</td>\n",
              "      <td>NaN</td>\n",
              "      <td>931.0</td>\n",
              "      <td>23.0</td>\n",
              "      <td>10.0</td>\n",
              "      <td>MEDIUM</td>\n",
              "      <td>94.0</td>\n",
              "      <td>114.0</td>\n",
              "      <td>0.253390</td>\n",
              "      <td>34237.0</td>\n",
              "      <td>17.0</td>\n",
              "      <td>3.269000e+03</td>\n",
              "    </tr>\n",
              "    <tr>\n",
              "      <th>1</th>\n",
              "      <td>Lakshmeshwar</td>\n",
              "      <td>Karnataka</td>\n",
              "      <td>T.M.C</td>\n",
              "      <td>36,754</td>\n",
              "      <td>NaN</td>\n",
              "      <td>934.0</td>\n",
              "      <td>25.0</td>\n",
              "      <td>38.0</td>\n",
              "      <td>HIGH</td>\n",
              "      <td>62.0</td>\n",
              "      <td>160.0</td>\n",
              "      <td>0.192555</td>\n",
              "      <td>34328.0</td>\n",
              "      <td>13.0</td>\n",
              "      <td>7.190591e+05</td>\n",
              "    </tr>\n",
              "    <tr>\n",
              "      <th>2</th>\n",
              "      <td>Zira</td>\n",
              "      <td>Punjab</td>\n",
              "      <td>M.Cl.</td>\n",
              "      <td>36,732</td>\n",
              "      <td>NaN</td>\n",
              "      <td>883.0</td>\n",
              "      <td>29.0</td>\n",
              "      <td>35.0</td>\n",
              "      <td>HIGH</td>\n",
              "      <td>63.0</td>\n",
              "      <td>105.0</td>\n",
              "      <td>0.887882</td>\n",
              "      <td>32434.0</td>\n",
              "      <td>17.0</td>\n",
              "      <td>2.739134e+05</td>\n",
              "    </tr>\n",
              "    <tr>\n",
              "      <th>3</th>\n",
              "      <td>Yawal</td>\n",
              "      <td>Maharashtra</td>\n",
              "      <td>M.Cl</td>\n",
              "      <td>36,706</td>\n",
              "      <td>NaN</td>\n",
              "      <td>887.0</td>\n",
              "      <td>26.0</td>\n",
              "      <td>31.0</td>\n",
              "      <td>HIGH</td>\n",
              "      <td>60.0</td>\n",
              "      <td>174.0</td>\n",
              "      <td>0.407838</td>\n",
              "      <td>32558.0</td>\n",
              "      <td>11.0</td>\n",
              "      <td>4.982870e+06</td>\n",
              "    </tr>\n",
              "    <tr>\n",
              "      <th>4</th>\n",
              "      <td>Thana Bhawan</td>\n",
              "      <td>Uttar Pradesh</td>\n",
              "      <td>N.P.</td>\n",
              "      <td>36,669</td>\n",
              "      <td>NaN</td>\n",
              "      <td>877.0</td>\n",
              "      <td>28.0</td>\n",
              "      <td>39.0</td>\n",
              "      <td>LOW</td>\n",
              "      <td>92.0</td>\n",
              "      <td>153.0</td>\n",
              "      <td>0.324456</td>\n",
              "      <td>32159.0</td>\n",
              "      <td>23.0</td>\n",
              "      <td>3.399307e+06</td>\n",
              "    </tr>\n",
              "    <tr>\n",
              "      <th>...</th>\n",
              "      <td>...</td>\n",
              "      <td>...</td>\n",
              "      <td>...</td>\n",
              "      <td>...</td>\n",
              "      <td>...</td>\n",
              "      <td>...</td>\n",
              "      <td>...</td>\n",
              "      <td>...</td>\n",
              "      <td>...</td>\n",
              "      <td>...</td>\n",
              "      <td>...</td>\n",
              "      <td>...</td>\n",
              "      <td>...</td>\n",
              "      <td>...</td>\n",
              "      <td>...</td>\n",
              "    </tr>\n",
              "    <tr>\n",
              "      <th>496</th>\n",
              "      <td>Nandaprayag</td>\n",
              "      <td>Uttarakhand</td>\n",
              "      <td>N.P</td>\n",
              "      <td>1,641</td>\n",
              "      <td>NaN</td>\n",
              "      <td>848.0</td>\n",
              "      <td>27.0</td>\n",
              "      <td>7.0</td>\n",
              "      <td>MEDIUM</td>\n",
              "      <td>12.0</td>\n",
              "      <td>181.0</td>\n",
              "      <td>0.316926</td>\n",
              "      <td>1392.0</td>\n",
              "      <td>4.0</td>\n",
              "      <td>1.196599e+05</td>\n",
              "    </tr>\n",
              "    <tr>\n",
              "      <th>497</th>\n",
              "      <td>Kirtinagar</td>\n",
              "      <td>Uttarakhand</td>\n",
              "      <td>N.P</td>\n",
              "      <td>1,517</td>\n",
              "      <td>NaN</td>\n",
              "      <td>852.0</td>\n",
              "      <td>28.0</td>\n",
              "      <td>12.0</td>\n",
              "      <td>HIGH</td>\n",
              "      <td>16.0</td>\n",
              "      <td>198.0</td>\n",
              "      <td>0.336852</td>\n",
              "      <td>1292.0</td>\n",
              "      <td>6.0</td>\n",
              "      <td>1.196603e+05</td>\n",
              "    </tr>\n",
              "    <tr>\n",
              "      <th>498</th>\n",
              "      <td>Kedarnath</td>\n",
              "      <td>Uttarakhand</td>\n",
              "      <td>N.P</td>\n",
              "      <td>612</td>\n",
              "      <td>NaN</td>\n",
              "      <td>853.0</td>\n",
              "      <td>24.0</td>\n",
              "      <td>9.0</td>\n",
              "      <td>LOW</td>\n",
              "      <td>19.0</td>\n",
              "      <td>189.0</td>\n",
              "      <td>0.723253</td>\n",
              "      <td>522.0</td>\n",
              "      <td>6.0</td>\n",
              "      <td>1.196602e+05</td>\n",
              "    </tr>\n",
              "    <tr>\n",
              "      <th>499</th>\n",
              "      <td>Gangotri</td>\n",
              "      <td>Uttarakhand</td>\n",
              "      <td>N.P</td>\n",
              "      <td>110</td>\n",
              "      <td>NaN</td>\n",
              "      <td>852.0</td>\n",
              "      <td>27.0</td>\n",
              "      <td>8.0</td>\n",
              "      <td>MEDIUM</td>\n",
              "      <td>18.0</td>\n",
              "      <td>170.0</td>\n",
              "      <td>0.421061</td>\n",
              "      <td>94.0</td>\n",
              "      <td>8.0</td>\n",
              "      <td>1.196602e+05</td>\n",
              "    </tr>\n",
              "    <tr>\n",
              "      <th>500</th>\n",
              "      <td>Kumarganj</td>\n",
              "      <td>Uttar Pradesh</td>\n",
              "      <td>C.T</td>\n",
              "      <td>NaN</td>\n",
              "      <td>NaN</td>\n",
              "      <td>863.0</td>\n",
              "      <td>24.0</td>\n",
              "      <td>35.0</td>\n",
              "      <td>HIGH</td>\n",
              "      <td>19.0</td>\n",
              "      <td>149.0</td>\n",
              "      <td>0.154375</td>\n",
              "      <td>0.0</td>\n",
              "      <td>6.0</td>\n",
              "      <td>3.104560e+06</td>\n",
              "    </tr>\n",
              "  </tbody>\n",
              "</table>\n",
              "<p>501 rows × 15 columns</p>\n",
              "</div>"
            ],
            "text/plain": [
              "             City          State  ... # of hospitals Foreign Visitors\n",
              "0        Tuensang       Nagaland  ...           17.0     3.269000e+03\n",
              "1    Lakshmeshwar      Karnataka  ...           13.0     7.190591e+05\n",
              "2            Zira         Punjab  ...           17.0     2.739134e+05\n",
              "3           Yawal    Maharashtra  ...           11.0     4.982870e+06\n",
              "4    Thana Bhawan  Uttar Pradesh  ...           23.0     3.399307e+06\n",
              "..            ...            ...  ...            ...              ...\n",
              "496   Nandaprayag    Uttarakhand  ...            4.0     1.196599e+05\n",
              "497    Kirtinagar    Uttarakhand  ...            6.0     1.196603e+05\n",
              "498     Kedarnath    Uttarakhand  ...            6.0     1.196602e+05\n",
              "499      Gangotri    Uttarakhand  ...            8.0     1.196602e+05\n",
              "500     Kumarganj  Uttar Pradesh  ...            6.0     3.104560e+06\n",
              "\n",
              "[501 rows x 15 columns]"
            ]
          },
          "metadata": {
            "tags": []
          },
          "execution_count": 104
        }
      ]
    },
    {
      "cell_type": "code",
      "metadata": {
        "id": "K2H28eLeltrr",
        "colab_type": "code",
        "colab": {}
      },
      "source": [
        "city_name=temp['City']\n",
        "df_test=preprocess(temp)"
      ],
      "execution_count": 105,
      "outputs": []
    },
    {
      "cell_type": "code",
      "metadata": {
        "id": "k_PB12Ahvwzj",
        "colab_type": "code",
        "colab": {
          "base_uri": "https://localhost:8080/",
          "height": 252
        },
        "outputId": "b51ed6e6-5e33-4436-bb3d-9ca1f4414780"
      },
      "source": [
        "x_final = norm(df_test,stats)\n",
        "print(x_final)"
      ],
      "execution_count": 106,
      "outputs": [
        {
          "output_type": "stream",
          "text": [
            "     Population [2011]  Sex Ratio  ...  # of hospitals  Foreign Visitors\n",
            "0            -0.301030   0.687378  ...       -0.851593         -0.857061\n",
            "1            -0.301054   0.768939  ...       -0.990144         -0.406220\n",
            "2            -0.301079  -0.617597  ...       -0.851593         -0.686596\n",
            "3            -0.301109  -0.508849  ...       -1.059419          2.279344\n",
            "4            -0.301152  -0.780719  ...       -0.643768          1.281936\n",
            "..                 ...        ...  ...             ...               ...\n",
            "496          -0.341800  -1.569141  ...       -1.301883         -0.783753\n",
            "497          -0.341944  -1.460393  ...       -1.232608         -0.783752\n",
            "498          -0.342994  -1.433206  ...       -1.232608         -0.783752\n",
            "499          -0.343577  -1.460393  ...       -1.163332         -0.783752\n",
            "500          -0.314462  -1.161337  ...       -1.232608          1.096289\n",
            "\n",
            "[501 rows x 10 columns]\n"
          ],
          "name": "stdout"
        }
      ]
    },
    {
      "cell_type": "code",
      "metadata": {
        "id": "wwUMRLwQwCPu",
        "colab_type": "code",
        "colab": {
          "base_uri": "https://localhost:8080/",
          "height": 202
        },
        "outputId": "57b7f29f-047c-4bd9-b8d9-b4c49576b0c2"
      },
      "source": [
        "x_final.isna().sum()"
      ],
      "execution_count": 107,
      "outputs": [
        {
          "output_type": "execute_result",
          "data": {
            "text/plain": [
              "Population [2011]    0\n",
              "Sex Ratio            0\n",
              "Median Age           0\n",
              "Avg Temp             0\n",
              "Toilets Avl          0\n",
              "Water Purity         0\n",
              "H Index              0\n",
              "Female Population    0\n",
              "# of hospitals       0\n",
              "Foreign Visitors     0\n",
              "dtype: int64"
            ]
          },
          "metadata": {
            "tags": []
          },
          "execution_count": 107
        }
      ]
    },
    {
      "cell_type": "code",
      "metadata": {
        "id": "IBedBoUsrZMZ",
        "colab_type": "code",
        "colab": {}
      },
      "source": [
        "result=[]\n",
        "\n",
        "output=model.predict(x_final)\n",
        "city=city_name.values\n",
        "for i in range(0,501):\n",
        "  result.append([city[i],output[i]])\n",
        "\n",
        "df=pd.DataFrame(result,columns=['City','Covid Cases'])\n",
        "df.to_csv('solution 02.csv',index=False)"
      ],
      "execution_count": 108,
      "outputs": []
    },
    {
      "cell_type": "code",
      "metadata": {
        "id": "MqLxHzecwCpv",
        "colab_type": "code",
        "colab": {}
      },
      "source": [
        ""
      ],
      "execution_count": null,
      "outputs": []
    }
  ]
}